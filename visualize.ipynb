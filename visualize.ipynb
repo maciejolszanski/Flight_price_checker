{
 "cells": [
  {
   "cell_type": "code",
   "execution_count": null,
   "metadata": {},
   "outputs": [],
   "source": [
    "import pandas as pd\n",
    "import json\n",
    "import datetime"
   ]
  },
  {
   "cell_type": "code",
   "execution_count": null,
   "metadata": {},
   "outputs": [],
   "source": [
    "def format_date(date):\n",
    "\n",
    "    formatted_date = '.'.join(str(date).split('-'))\n",
    "\n",
    "    return formatted_date"
   ]
  },
  {
   "cell_type": "code",
   "execution_count": null,
   "metadata": {},
   "outputs": [],
   "source": [
    "today = datetime.date.today()\n",
    "today = format_date(today)"
   ]
  },
  {
   "cell_type": "code",
   "execution_count": null,
   "metadata": {},
   "outputs": [],
   "source": [
    "from os import listdir\n",
    "\n",
    "data_dir = \"data\"\n",
    "files = listdir(data_dir)\n",
    "\n",
    "latest_file = [f for f in files if f[-3:] == \"csv\"][-1]\n",
    "latest_iter = latest_file[-5]\n",
    "\n",
    "latest_df = pd.read_csv(data_dir + \"\\\\\" + latest_file)\n",
    "latest_read_date = latest_df[\"date_readed\"].max()\n"
   ]
  },
  {
   "cell_type": "code",
   "execution_count": null,
   "metadata": {},
   "outputs": [],
   "source": [
    "raw_data_path = r\"data\\flights_data.json\"\n",
    "output_csv_path = f\"data\\\\flights_{int(latest_iter) + 1}.csv\""
   ]
  },
  {
   "cell_type": "code",
   "execution_count": null,
   "metadata": {},
   "outputs": [],
   "source": [
    "with open(raw_data_path) as f:\n",
    "    data = json.load(f)[\"items\"]\n",
    "\n",
    "df = pd.DataFrame(data)\n",
    "df[\"stops_num\"] = df.stops.str[\"stops\"]\n",
    "max_stops = df[\"stops_num\"].max()\n",
    "\n",
    "df2 = pd.DataFrame(df.stops.str[\"stops_data\"].tolist())\n",
    "\n",
    "for i in range(max_stops):\n",
    "    df[f\"stop_{i+1}_duration\"] = df2[i].str[\"duration\"]\n",
    "    df[f\"stop_{i+1}_place\"] = df2[i].str[\"place\"]\n",
    "\n",
    "df = df.drop('stops', axis=1)"
   ]
  },
  {
   "cell_type": "code",
   "execution_count": null,
   "metadata": {},
   "outputs": [],
   "source": [
    "df = df[df[\"date_readed\"] > latest_read_date]"
   ]
  },
  {
   "cell_type": "code",
   "execution_count": null,
   "metadata": {},
   "outputs": [],
   "source": [
    "df[df[\"date_readed\"] == today].sort_values(\"price\").head(10)"
   ]
  },
  {
   "cell_type": "code",
   "execution_count": null,
   "metadata": {},
   "outputs": [],
   "source": [
    "import os\n",
    "from azure.storage.blob import BlobServiceClient\n",
    "\n",
    "connect_str = os.getenv(\"AZURE_STORAGE_CONNECTION_STRING\")\n",
    "blob_service_client = BlobServiceClient.from_connection_string(connect_str)"
   ]
  },
  {
   "cell_type": "code",
   "execution_count": null,
   "metadata": {},
   "outputs": [],
   "source": [
    "container_name = \"mol\"\n",
    "container_client= blob_service_client.get_container_client(container_name)"
   ]
  },
  {
   "cell_type": "code",
   "execution_count": null,
   "metadata": {},
   "outputs": [],
   "source": [
    "df.to_csv(output_csv_path)\n",
    "\n",
    "blob_client = blob_service_client.get_blob_client(container=container_name, blob=output_csv_path)\n",
    "print(\"\\nUploading to Azure Storage as blob:\\n\\t\" + output_csv_path)\n",
    "\n",
    "with open(output_csv_path, \"rb\") as f:\n",
    "    blob_client.upload_blob(f, overwrite=True)"
   ]
  },
  {
   "cell_type": "code",
   "execution_count": null,
   "metadata": {},
   "outputs": [],
   "source": []
  }
 ],
 "metadata": {
  "kernelspec": {
   "display_name": "Python 3.9.13 ('env': venv)",
   "language": "python",
   "name": "python3"
  },
  "language_info": {
   "codemirror_mode": {
    "name": "ipython",
    "version": 3
   },
   "file_extension": ".py",
   "mimetype": "text/x-python",
   "name": "python",
   "nbconvert_exporter": "python",
   "pygments_lexer": "ipython3",
   "version": "3.9.13"
  },
  "orig_nbformat": 4,
  "vscode": {
   "interpreter": {
    "hash": "812a0cc1289737d4b92159e0a99917fa2f067e260c3468392524e03b4da3d35f"
   }
  }
 },
 "nbformat": 4,
 "nbformat_minor": 2
}
